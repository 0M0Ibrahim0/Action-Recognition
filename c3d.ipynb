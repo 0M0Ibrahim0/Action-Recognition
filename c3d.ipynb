{
  "nbformat": 4,
  "nbformat_minor": 0,
  "metadata": {
    "colab": {
      "name": "test vision.ipynb",
      "provenance": [],
      "private_outputs": true,
      "collapsed_sections": [],
      "machine_shape": "hm"
    },
    "kernelspec": {
      "name": "python3",
      "display_name": "Python 3"
    },
    "accelerator": "GPU"
  },
  "cells": [
    {
      "cell_type": "code",
      "metadata": {
        "id": "dlPyNqPj_hSt",
        "colab_type": "code",
        "colab": {}
      },
      "source": [
        "from google.colab import drive\n",
        "drive.mount('/content/drive')"
      ],
      "execution_count": null,
      "outputs": []
    },
    {
      "cell_type": "code",
      "metadata": {
        "id": "2zUADcq2w-kL",
        "colab_type": "code",
        "colab": {}
      },
      "source": [
        "import matplotlib\n",
        "matplotlib.use(\"Agg\")\n",
        "import numpy as np\n",
        "from matplotlib import pyplot as plt\n",
        "from keras.preprocessing.image import ImageDataGenerator\n",
        "from keras.layers.pooling import AveragePooling2D\n",
        "from keras.applications import ResNet50\n",
        "from keras.layers.core import Dropout\n",
        "from keras.layers.core import Flatten\n",
        "from keras.layers.core import Dense\n",
        "from keras.layers import Input\n",
        "from keras.models import Model\n",
        "from keras.optimizers import SGD\n",
        "from keras.models import Sequential\n",
        "from keras.layers.core import Dense, Dropout, Flatten, Lambda\n",
        "from keras.layers.convolutional import Conv3D, MaxPooling3D, ZeroPadding3D\n",
        "from keras.layers.convolutional import Convolution3D\n",
        "from sklearn.preprocessing import LabelBinarizer\n",
        "from sklearn.model_selection import train_test_split\n",
        "from sklearn.metrics import classification_report\n",
        "from imutils import paths\n",
        "import matplotlib.pyplot as plt\n",
        "import numpy as np\n",
        "import argparse\n",
        "import pickle\n",
        "import cv2\n",
        "import os\n",
        "import random\n",
        "from tqdm import tqdm\n",
        "\n",
        "path_test = '/content/drive/My Drive/Testing_set/Testing_set'\n",
        "path_train = '/content/drive/My Drive/Training_set/Training'\n"
      ],
      "execution_count": null,
      "outputs": []
    },
    {
      "cell_type": "code",
      "metadata": {
        "id": "UWAvul0txBmm",
        "colab_type": "code",
        "colab": {}
      },
      "source": [
        "def get_image(input):\n",
        "  ret = []\n",
        "  vs = cv2.VideoCapture(input)\n",
        "  \n",
        "  while True:\n",
        "    (grabbed, frame) = vs.read()\n",
        "    if not grabbed:\n",
        "      break    \n",
        "    ret.append(frame)\n",
        "\n",
        "  vs.release()\n",
        "  cv2.destroyAllWindows()\n",
        "  return ret\n",
        "# 12900 minimum category length\n",
        "def data_set():\n",
        "  if os.path.exists('/content/train'): return\n",
        "  os.makedirs('train', exist_ok = True)\n",
        "  for folder in os.listdir(path_train):\n",
        "    print(folder)\n",
        "    imgs = []\n",
        "    for video in tqdm(os.listdir(os.path.join(path_train, folder))):\n",
        "      video_path = os.path.join(os.path.join(path_train, folder ),  video)\n",
        "      imgs += get_image(video_path)\n",
        "    random.shuffle(imgs)\n",
        "\n",
        "    os.makedirs(os.path.join('/content/train', folder))\n",
        "    for i in tqdm(range(0, 9000)):\n",
        "      cv2.imwrite('/content/train/' + folder + '/' + str(i) + '.jpg'  , imgs[i])\n",
        "\n",
        "    print(len(imgs))\n",
        "\n",
        "data_set()"
      ],
      "execution_count": null,
      "outputs": []
    },
    {
      "cell_type": "code",
      "metadata": {
        "id": "ChJh8WnUxIyz",
        "colab_type": "code",
        "colab": {}
      },
      "source": [
        "\n",
        "\n",
        "mean = np.array([123.68, 116.779, 103.939], dtype=\"float32\")\n",
        "print(\"[INFO] loading images...\")\n",
        "LABELS = {'Diving': 0, 'Jumping': 1, 'Basketball': 2, 'Tennis': 3, 'Walking': 4}\n",
        "data = []\n",
        "labels = []\n",
        "new_path = '/content/train'\n",
        "for folder in os.listdir(new_path):\n",
        "\tcnt = 0\n",
        "\tfor name in tqdm(os.listdir(os.path.join(new_path,folder))):\n",
        "\t\tif cnt >= 4000:break\n",
        "\t\tcnt += 1\n",
        "\t\timg = cv2.imread(os.path.join(os.path.join(new_path,folder), name))\n",
        "\t\timg = cv2.cvtColor(img, cv2.COLOR_BGR2RGB)\n",
        "\t\timg = cv2.resize(img, (171, 128)).astype(\"float32\")\n",
        "\t\timg-=mean\n",
        "\t\tdata.append(img)\n",
        "\t\tlabels.append(LABELS[folder])\n",
        "\t\t#imagePath = Diving + '/' + imagePath\n",
        "\n",
        "print(len(data))\n",
        "\n"
      ],
      "execution_count": null,
      "outputs": []
    },
    {
      "cell_type": "code",
      "metadata": {
        "id": "etfpHEpxxgx0",
        "colab_type": "code",
        "colab": {}
      },
      "source": [
        "data = np.array(data)\n",
        "labels = np.array(labels)\n",
        "lb = LabelBinarizer()\n",
        "labels = lb.fit_transform(labels)"
      ],
      "execution_count": null,
      "outputs": []
    },
    {
      "cell_type": "code",
      "metadata": {
        "id": "PeKp7C262PnB",
        "colab_type": "code",
        "colab": {}
      },
      "source": [
        "trainX = []\n",
        "testX = []\n",
        "trainY = []\n",
        "testY = []\n",
        "print(len(data))\n",
        "print(len(labels))"
      ],
      "execution_count": null,
      "outputs": []
    },
    {
      "cell_type": "code",
      "metadata": {
        "id": "v5l4Ff-TxlPy",
        "colab_type": "code",
        "colab": {}
      },
      "source": [
        "#lb = LabelBinarizer()\n",
        "#labels = lb.fit_transform(labels)\n",
        "#(trainX, testX, trainY, testY) = train_test_split(data, labels,test_size=0.0, stratify=labels, random_state=42)\n",
        "#trainX = data\n",
        "#trainY = labels\n",
        "(trainX, testX, trainY, testY) = train_test_split(data, labels,test_size=.25, stratify=labels, random_state=42)\n"
      ],
      "execution_count": null,
      "outputs": []
    },
    {
      "cell_type": "code",
      "metadata": {
        "id": "l5S-V62zRBTh",
        "colab_type": "code",
        "colab": {}
      },
      "source": [
        "print(len(trainX))\n",
        "print(len(trainY))\n",
        "print(len(testX))\n",
        "print(len(testY))\n",
        "data = []\n",
        "labels = []"
      ],
      "execution_count": null,
      "outputs": []
    },
    {
      "cell_type": "code",
      "metadata": {
        "id": "yOSgqatrxttP",
        "colab_type": "code",
        "colab": {}
      },
      "source": [
        "data = None\n",
        "trainAug = ImageDataGenerator(\n",
        "\trotation_range=30,\n",
        "\tzoom_range=0.15,\n",
        "\twidth_shift_range=0.2,\n",
        "\theight_shift_range=0.2,\n",
        "\tshear_range=0.15,\n",
        "\thorizontal_flip=True,\n",
        "\tfill_mode=\"nearest\")\n",
        "\n",
        "valAug = ImageDataGenerator()\n",
        "\n",
        "mean = np.array([123.68, 116.779, 103.939], dtype=\"float32\")\n",
        "trainAug.mean = mean\n",
        "valAug.mean = mean"
      ],
      "execution_count": null,
      "outputs": []
    },
    {
      "cell_type": "code",
      "metadata": {
        "id": "rnKfxkX709f5",
        "colab_type": "code",
        "colab": {}
      },
      "source": [
        "def c3d(summary=False):\n",
        "    \"\"\" Return the Keras model of the network\n",
        "    \"\"\"\n",
        "    model = Sequential()\n",
        "    # 1st layer group\n",
        "    model.add(Convolution3D(64, 3, 3, 3, activation='relu', \n",
        "                            border_mode='same', name='conv1',\n",
        "                            subsample=(1, 1, 1), \n",
        "                            input_shape=(16, 112, 112, 3)))\n",
        "    model.add(MaxPooling3D(pool_size=(1, 2, 2), strides=(1, 2, 2), \n",
        "                           border_mode='valid', name='pool1'))\n",
        "    # 2nd layer group\n",
        "    model.add(Convolution3D(128, 3, 3, 3, activation='relu', \n",
        "                            border_mode='same', name='conv2',\n",
        "                            subsample=(1, 1, 1)))\n",
        "    model.add(MaxPooling3D(pool_size=(2, 2, 2), strides=(2, 2, 2), \n",
        "                           border_mode='valid', name='pool2'))\n",
        "    # 3rd layer group\n",
        "    model.add(Convolution3D(256, 3, 3, 3, activation='relu', \n",
        "                            border_mode='same', name='conv3a',\n",
        "                            subsample=(1, 1, 1)))\n",
        "    model.add(Convolution3D(256, 3, 3, 3, activation='relu', \n",
        "                            border_mode='same', name='conv3b',\n",
        "                            subsample=(1, 1, 1)))\n",
        "    model.add(MaxPooling3D(pool_size=(2, 2, 2), strides=(2, 2, 2), \n",
        "                           border_mode='valid', name='pool3'))\n",
        "    # 4th layer group\n",
        "    model.add(Convolution3D(512, 3, 3, 3, activation='relu', \n",
        "                            border_mode='same', name='conv4a',\n",
        "                            subsample=(1, 1, 1)))\n",
        "    model.add(Convolution3D(512, 3, 3, 3, activation='relu', \n",
        "                            border_mode='same', name='conv4b',\n",
        "                            subsample=(1, 1, 1)))\n",
        "    model.add(MaxPooling3D(pool_size=(2, 2, 2), strides=(2, 2, 2), \n",
        "                           border_mode='valid', name='pool4'))\n",
        "    # 5th layer group\n",
        "    model.add(Convolution3D(512, 3, 3, 3, activation='relu', \n",
        "                            border_mode='same', name='conv5a',\n",
        "                            subsample=(1, 1, 1)))\n",
        "    model.add(Convolution3D(512, 3, 3, 3, activation='relu', \n",
        "                            border_mode='same', name='conv5b',\n",
        "                            subsample=(1, 1, 1)))\n",
        "    model.add(ZeroPadding3D(padding=(0, 1, 1)))\n",
        "    model.add(MaxPooling3D(pool_size=(2, 2, 2), strides=(2, 2, 2), \n",
        "                           border_mode='valid', name='pool5'))\n",
        "    model.add(Flatten())\n",
        "    # FC layers group\n",
        "    model.add(Dense(4096, activation='relu', name='fc6'))\n",
        "    model.add(Dropout(.5))\n",
        "    model.add(Dense(4096, activation='relu', name='fc7'))\n",
        "    model.add(Dropout(.5))\n",
        "    model.add(Dense(487, activation='softmax', name='fc8'))\n",
        "    if summary:\n",
        "        print(model.summary())\n",
        "    return model\n"
      ],
      "execution_count": null,
      "outputs": []
    },
    {
      "cell_type": "code",
      "metadata": {
        "id": "Ufrzgt0u1okE",
        "colab_type": "code",
        "colab": {}
      },
      "source": [
        "base = c3d()\n",
        "base = Model(inputs=base.input,\n",
        "                      outputs=base.get_layer('fc7').output)\n",
        "head = base.output\n",
        "head = Dense(5, activation=\"softmax\")(head)\n",
        "model = Model(inputs=base.input, outputs=head)"
      ],
      "execution_count": null,
      "outputs": []
    },
    {
      "cell_type": "code",
      "metadata": {
        "id": "FZYwgKB-iS7M",
        "colab_type": "code",
        "colab": {}
      },
      "source": [
        "model.summary()"
      ],
      "execution_count": null,
      "outputs": []
    },
    {
      "cell_type": "code",
      "metadata": {
        "id": "U79QJ58zx0Le",
        "colab_type": "code",
        "colab": {}
      },
      "source": [
        "print(\"[INFO] compiling model...\")\n",
        "opt = SGD(lr=1e-4, momentum=0.9, decay=1e-4 / 25)\n",
        "model.compile(loss=\"categorical_crossentropy\", optimizer=opt,\n",
        "\tmetrics=[\"accuracy\"])\n",
        "# train the head of the network for a few epochs (all other layers\n",
        "# are frozen) -- this will allow the new FC layers to start to become\n",
        "# initialized with actual \"learned\" values versus pure random\n",
        "print(\"[INFO] training head...\")\n"
      ],
      "execution_count": null,
      "outputs": []
    },
    {
      "cell_type": "code",
      "metadata": {
        "id": "VoQ8txLJycXp",
        "colab_type": "code",
        "colab": {}
      },
      "source": [
        "from keras.callbacks import ModelCheckpoint\n",
        "filepath=\"weights2.best.hdf5\"\n",
        "checkpoint = ModelCheckpoint(filepath, monitor='val_accuracy', verbose=1, save_best_only=True, mode='max')\n",
        "callbacks_list = [checkpoint]\n",
        "# Fit the model\n",
        "#model.fit(X, Y, validation_split=0.33, epochs=25, batch_size=64, callbacks=callbacks_list)"
      ],
      "execution_count": null,
      "outputs": []
    },
    {
      "cell_type": "code",
      "metadata": {
        "id": "AB1fD5jBx4AD",
        "colab_type": "code",
        "colab": {}
      },
      "source": [
        "#H = model.fit_generator(trainAug.flow(trainX, trainY, batch_size=32),\tvalidation_data=valAug.flow(testX, testY),\tepochs=10)\n",
        "\n",
        "H = model.fit(trainX, trainY, epochs=5, \n",
        "          validation_data=(testX, testY), \n",
        "\t\t\t\t\tshuffle=1, batch_size=64, callbacks=callbacks_list)\n",
        "'''model.fit(\n",
        "\ttrainAug.flow(trainX, trainY, batch_size=32),\n",
        "\tsteps_per_epoch=len(trainX) // 32,\n",
        "\tvalidation_data=valAug.flow(testX, testY),\n",
        "\tvalidation_steps=len(testX) // 32,\n",
        "\tepochs=15)'''"
      ],
      "execution_count": null,
      "outputs": []
    },
    {
      "cell_type": "code",
      "metadata": {
        "id": "8kKxWzys-iAH",
        "colab_type": "code",
        "colab": {}
      },
      "source": [
        "#finalmodel = Model(inputs=baseModel.input, outputs=headModel)\n",
        "#finalmodel.load_weights(\"weights.best.hdf5\")\n",
        "#finalmodel.compile(loss=\"categorical_crossentropy\", optimizer=opt,\tmetrics=[\"accuracy\"])\n",
        "model.load_weights(\"weights.best.hdf5\")\n",
        "#model.save('vision1.h5')"
      ],
      "execution_count": null,
      "outputs": []
    },
    {
      "cell_type": "code",
      "metadata": {
        "id": "Z7bs2XF1zBVZ",
        "colab_type": "code",
        "colab": {}
      },
      "source": [
        "\n",
        "\n",
        "# evaluate the network\n",
        "print(\"[INFO] evaluating network...\")\n",
        "predictions = model.predict(testX, batch_size=32)\n",
        "predictions = np.asarray(predictions)\n",
        "testY = np.asarray(testY)\n",
        "'''print(classification_report(testY.argmax(axis=1),\n",
        "      predictions.argmax(axis=1),target_names=lb.classes_))'''\n",
        "\n",
        "'''print(testY.argmax(axis=1))\n",
        "print(predictions.argmax(axis=1))\n",
        "print(lb.classes_)'''\n",
        "N = 25\n",
        "plt.style.use(\"ggplot\")\n",
        "plt.figure()\n",
        "plt.plot(np.arange(0, N), H.history[\"loss\"], label=\"train_loss\")\n",
        "plt.plot(np.arange(0, N), H.history[\"val_loss\"], label=\"val_loss\")\n",
        "plt.plot(np.arange(0, N), H.history[\"accuracy\"], label=\"train_acc\")\n",
        "plt.plot(np.arange(0, N), H.history[\"val_accuracy\"], label=\"val_acc\")\n",
        "plt.title(\"Training Loss and Accuracy on Dataset\")\n",
        "plt.xlabel(\"Epoch #\")\n",
        "plt.ylabel(\"Loss/Accuracy\")\n",
        "plt.legend(loc=\"lower left\")\n",
        "plt.savefig('plot.png')\n",
        "\n"
      ],
      "execution_count": null,
      "outputs": []
    },
    {
      "cell_type": "code",
      "metadata": {
        "id": "ZchRmFZI8sKB",
        "colab_type": "code",
        "colab": {}
      },
      "source": [
        "ok = {}\n",
        "#LABELS = {'Diving': 0, 'Jumping': 1, 'Basketball': 2, 'Tennis': 3, 'Walking': 4}\n",
        "\n",
        "for i in range(1, 127):\n",
        "  st = 'test_image(' + str(i) + ').mpg'\n",
        "  if i < 32:\n",
        "    ok[st]=0\n",
        "  elif i < 52:\n",
        "    ok[st]=1\n",
        "  elif i < 87:\n",
        "    ok[st]=2\n",
        "  elif i < 106:\n",
        "    ok[st]=3\n",
        "  else:\n",
        "    ok[st]=4"
      ],
      "execution_count": null,
      "outputs": []
    },
    {
      "cell_type": "code",
      "metadata": {
        "id": "yd496ENB0A5C",
        "colab_type": "code",
        "colab": {}
      },
      "source": [
        "from pandas import DataFrame as pd\n",
        "import csv\n",
        "file = []\n",
        "t = 0\n",
        "for folder in os.listdir(path_test):\n",
        "  vid_path = os.path.join(path_test, folder)\n",
        "  imgs = []\n",
        "  \n",
        "  #ret = []\n",
        "  vs = cv2.VideoCapture(vid_path)\n",
        "  \n",
        "  while True:\n",
        "    (grabbed, frame) = vs.read()\n",
        "    if not grabbed:\n",
        "      break    \n",
        "    \n",
        "    frame = cv2.cvtColor(frame, cv2.COLOR_BGR2RGB)\n",
        "    frame = cv2.resize(frame, (224, 224)).astype(\"float32\")\n",
        "    frame-=mean\n",
        "    imgs.append(frame)\n",
        "\n",
        "  vs.release()\n",
        "  cv2.destroyAllWindows()  \n",
        "  \n",
        "  y = model.predict(np.array(imgs))\n",
        "  lst = 5*[0.0]\n",
        "  lst = np.array(lst)\n",
        "  for i in y:\n",
        "    lst += i\n",
        "    #lst[np.argmax(i)]+=1\n",
        "  \n",
        "  idx = np.argmax(np.array(lst))\n",
        "  file.append([folder, idx])\n",
        "  folder = folder.replace(\" \", \"\")\n",
        "  #print(idx, folder)\n",
        "  t += int(int(idx)==int(ok[folder]))\n",
        "\n",
        "pd(np.array(file), columns=['Id', 'Category']).to_csv('submit.csv', index = False)"
      ],
      "execution_count": null,
      "outputs": []
    },
    {
      "cell_type": "code",
      "metadata": {
        "id": "l5OrMiQK7iId",
        "colab_type": "code",
        "colab": {}
      },
      "source": [
        "H = None"
      ],
      "execution_count": null,
      "outputs": []
    },
    {
      "cell_type": "code",
      "metadata": {
        "id": "Hf6rQ3T39-4G",
        "colab_type": "code",
        "colab": {}
      },
      "source": [
        "print(t/126*100.0)"
      ],
      "execution_count": null,
      "outputs": []
    }
  ]
}